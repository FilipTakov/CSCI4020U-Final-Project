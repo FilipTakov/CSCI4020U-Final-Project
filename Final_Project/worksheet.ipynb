{
 "cells": [
  {
   "cell_type": "markdown",
   "id": "984705cb-5d84-4271-99ea-a3c7b16149b3",
   "metadata": {
    "editable": false
   },
   "source": [
    "# Assignment 3"
   ]
  },
  {
   "cell_type": "code",
   "execution_count": 1,
   "id": "5717a6e1-13b5-464b-9244-fdec8411cd5f",
   "metadata": {
    "editable": false,
    "tags": []
   },
   "outputs": [],
   "source": [
    "// [THIS IS READ-ONLY]\n",
    "@file:DependsOn(\"/antlr-4.11.1-complete.jar\")\n",
    "@file:DependsOn(\"./target\")"
   ]
  },
  {
   "cell_type": "code",
   "execution_count": 2,
   "id": "3b38dfda-74cd-4464-a6e0-a42096ff8aab",
   "metadata": {
    "editable": false,
    "tags": []
   },
   "outputs": [],
   "source": [
    "// [THIS IS READ-ONLY]\n",
    "import org.antlr.v4.runtime.*\n",
    "import backend.*"
   ]
  },
  {
   "cell_type": "code",
   "execution_count": 3,
   "id": "87e5764c-c1cf-43f8-86b8-71f1e6bfae44",
   "metadata": {
    "editable": false,
    "tags": []
   },
   "outputs": [],
   "source": [
    "// [THIS IS READ-ONLY]\n",
    "fun execute(source:String) {\n",
    "    val errorlistener = object: BaseErrorListener() {\n",
    "        override fun syntaxError(recognizer: Recognizer<*,*>,\n",
    "               offendingSymbol: Any?,\n",
    "               line: Int,\n",
    "               pos: Int,\n",
    "               msg: String,\n",
    "               e: RecognitionException?) {\n",
    "            throw Exception(\"${e} at line:${line}, char:${pos}\")\n",
    "        }\n",
    "    }\n",
    "    val input = CharStreams.fromString(source)\n",
    "    val lexer = PLLexer(input).apply {\n",
    "        removeErrorListeners()\n",
    "        addErrorListener(errorlistener)\n",
    "    }\n",
    "    val tokens = CommonTokenStream(lexer)\n",
    "    val parser = PLParser(tokens).apply {\n",
    "        removeErrorListeners()\n",
    "        addErrorListener(errorlistener)\n",
    "    }    \n",
    "    \n",
    "    try {\n",
    "        val result = parser.program()\n",
    "        result.expr.eval(Runtime())\n",
    "    } catch(e:Exception) {\n",
    "        println(\"Error: ${e}\")\n",
    "    }\n",
    "}"
   ]
  },
  {
   "cell_type": "markdown",
   "id": "57efa119-3d8e-4837-9b77-19913b2ad480",
   "metadata": {
    "editable": false,
    "tags": []
   },
   "source": [
    "## String arithmetics"
   ]
  },
  {
   "cell_type": "code",
   "execution_count": 4,
   "id": "b001c14e-2f45-48fc-82be-a98168bf2aa9",
   "metadata": {
    "editable": false,
    "tags": []
   },
   "outputs": [],
   "source": [
    "// [THIS IS READ-ONLY]\n",
    "val program1 = \"\"\"\n",
    "x = \"Hello\";\n",
    "y = \"World\";\n",
    "\n",
    "print(x ++ \" \" ++ y);\n",
    "\"\"\""
   ]
  },
  {
   "cell_type": "code",
   "execution_count": 5,
   "id": "b3c2857e",
   "metadata": {
    "tags": []
   },
   "outputs": [
    {
     "name": "stdout",
     "output_type": "stream",
     "text": [
      "backend.Block@2ded6b73\n",
      "String:\"Hello\"\" \"\"World\"\n",
      "String:\"Hello\"\" \"\"World\"\n"
     ]
    }
   ],
   "source": [
    "// [YOUR WORK HERE]\n",
    "// @workUnit\n",
    "// execute the program\n",
    "fun execute2(source:String) {\n",
    "    val errorlistener = object: BaseErrorListener() {\n",
    "        override fun syntaxError(recognizer: Recognizer<*,*>,\n",
    "               offendingSymbol: Any?,\n",
    "               line: Int,\n",
    "               pos: Int,\n",
    "               msg: String,\n",
    "               e: RecognitionException?) {\n",
    "            throw Exception(\"${e} at line:${line}, char:${pos}\")\n",
    "        }\n",
    "    }\n",
    "    val input = CharStreams.fromString(source)\n",
    "    val lexer = PLLexer(input).apply {\n",
    "        removeErrorListeners()\n",
    "        addErrorListener(errorlistener)\n",
    "    }\n",
    "    val tokens = CommonTokenStream(lexer)\n",
    "    val parser = PLParser(tokens).apply {\n",
    "        removeErrorListeners()\n",
    "        addErrorListener(errorlistener)\n",
    "    }    \n",
    "    \n",
    "    try {\n",
    "        val result = parser.program()\n",
    "        println(result.expr)\n",
    "        println(result.expr.eval(Runtime()))\n",
    "    } catch(e:Exception) {\n",
    "        println(\"Error: ${e}\")\n",
    "    }\n",
    "}\n",
    "execute2(program1)"
   ]
  },
  {
   "cell_type": "markdown",
   "id": "b4ad5b2d-b4b2-42e8-bbe1-0ecefb10102d",
   "metadata": {
    "editable": false
   },
   "source": [
    "## Mixed arithmetics"
   ]
  },
  {
   "cell_type": "code",
   "execution_count": 6,
   "id": "579a59aa-6074-4715-a248-bd553e9bddbf",
   "metadata": {
    "editable": false,
    "tags": []
   },
   "outputs": [],
   "source": [
    "// [THIS IS READ-ONLY]\n",
    "val program2 = \"\"\"\n",
    "x = \"woof \";\n",
    "y = \"Dog goes \" ++ (x * 2);\n",
    "\n",
    "print(y);\n",
    "\"\"\""
   ]
  },
  {
   "cell_type": "code",
   "execution_count": 7,
   "id": "629a437d",
   "metadata": {
    "tags": []
   },
   "outputs": [
    {
     "name": "stdout",
     "output_type": "stream",
     "text": [
      "String:\"Dog goes \"\"woof \"\"woof \"\n"
     ]
    }
   ],
   "source": [
    "// [YOUR WORK HERE]\n",
    "// @workUnit\n",
    "\n",
    "execute(program2)"
   ]
  },
  {
   "cell_type": "markdown",
   "id": "172ba344-0ce6-49c2-a5ac-d14eefdaffb4",
   "metadata": {
    "editable": false,
    "tags": []
   },
   "source": [
    "## Loops"
   ]
  },
  {
   "cell_type": "code",
   "execution_count": 8,
   "id": "eab62b5c-103d-4b9e-9244-61faa2571bd7",
   "metadata": {
    "editable": false,
    "tags": []
   },
   "outputs": [],
   "source": [
    "// [THIS IS READ-ONLY]\n",
    "val program3 = \"\"\"\n",
    "sum = 0\n",
    "for(i in 10..20) {\n",
    "  sum = sum + i;\n",
    "}\n",
    "\n",
    "print(sum)\n",
    "\"\"\""
   ]
  },
  {
   "cell_type": "code",
   "execution_count": 9,
   "id": "9f1ac87b",
   "metadata": {
    "tags": []
   },
   "outputs": [
    {
     "name": "stdout",
     "output_type": "stream",
     "text": [
      "Error: java.lang.Exception: null at line:3, char:0\n"
     ]
    }
   ],
   "source": [
    "// [YOUR WORK HERE]\n",
    "// @workUnit\n",
    "\n",
    "execute(program3)"
   ]
  },
  {
   "cell_type": "markdown",
   "id": "46585be1-3814-4ad5-83e8-6ff46f99b90f",
   "metadata": {
    "editable": false,
    "tags": []
   },
   "source": [
    "## Function"
   ]
  },
  {
   "cell_type": "code",
   "execution_count": 10,
   "id": "91e9c33b-9393-4de7-8e98-aa82d568df53",
   "metadata": {
    "editable": false,
    "tags": []
   },
   "outputs": [],
   "source": [
    "// [THIS IS READ-ONLY]\n",
    "val program4 = \"\"\"\n",
    "function greeting(name, message) {\n",
    "  x = \"Hi,\";\n",
    "  x = x ++ \" my name is \" ++ name ++ \".\";\n",
    "  print(x);\n",
    "  print(message);\n",
    "}\n",
    "\n",
    "greeting(\"Albert\", \"How are you?\");\n",
    "\"\"\""
   ]
  },
  {
   "cell_type": "code",
   "execution_count": 11,
   "id": "475f7864",
   "metadata": {
    "tags": []
   },
   "outputs": [
    {
     "name": "stdout",
     "output_type": "stream",
     "text": [
      "String:\"How are you?\"\n"
     ]
    }
   ],
   "source": [
    "// [YOUR WORK HERE]\n",
    "// @workUnit\n",
    "\n",
    "execute(program4)"
   ]
  },
  {
   "cell_type": "markdown",
   "id": "aeb42862-8d8a-4a40-ae06-a5641eb8d2bf",
   "metadata": {
    "editable": false,
    "tags": []
   },
   "source": [
    "## Recursion"
   ]
  },
  {
   "cell_type": "code",
   "execution_count": 12,
   "id": "c39324da-96e3-4e61-a489-f23a7fc3f508",
   "metadata": {
    "editable": false,
    "tags": []
   },
   "outputs": [],
   "source": [
    "// [THIS IS READ-ONLY]\n",
    "val program5 = \"\"\"\n",
    "function factorial(n) {\n",
    "  if(n < 2) {\n",
    "    1;\n",
    "  } else {\n",
    "    n * factorial(n-1);\n",
    "  }\n",
    "}\n",
    "\n",
    "print(factorial(10));\n",
    "\"\"\""
   ]
  },
  {
   "cell_type": "code",
   "execution_count": 13,
   "id": "755cf3df",
   "metadata": {
    "tags": []
   },
   "outputs": [
    {
     "name": "stdout",
     "output_type": "stream",
     "text": [
      "Error: java.lang.NullPointerException\n"
     ]
    }
   ],
   "source": [
    "// [YOUR WORK HERE]\n",
    "// @workUnit\n",
    "\n",
    "execute(program5)"
   ]
  },
  {
   "cell_type": "code",
   "execution_count": 14,
   "id": "5511dc4b-a869-4214-8fe2-5fd342f1a60b",
   "metadata": {
    "tags": []
   },
   "outputs": [
    {
     "data": {
      "text/plain": [
       "a = Int:42; b = String:Hello; c = true; d = false"
      ]
     },
     "execution_count": 14,
     "metadata": {},
     "output_type": "execute_result"
    }
   ],
   "source": [
    "// personal testing cell:\n",
    "\n",
    "\n",
    "Runtime()\n",
    "    .subscope(\n",
    "        mapOf(\n",
    "            \"a\" to IntData(42),\n",
    "            \"b\" to StringData(\"Hello\"),\n",
    "            \"c\" to BooleanData(true),\n",
    "            \"d\" to BooleanData(false),\n",
    "            //\"e\" to ArrayData([\"a\", \"a\"])\n",
    "        )\n",
    "    )"
   ]
  },
  {
   "cell_type": "code",
   "execution_count": 15,
   "id": "45cd9bcf-0e36-46f9-b2f2-6c015e383ac8",
   "metadata": {
    "tags": []
   },
   "outputs": [],
   "source": [
    "val program7 = \"\"\"\n",
    "x = \"Hello\";\n",
    "y = \" World\";\n",
    "\n",
    "t = [\"hola\", \"mi\", \"amigos\"];\n",
    "\n",
    "\n",
    "print(x ++ y);\n",
    "\"\"\""
   ]
  },
  {
   "cell_type": "code",
   "execution_count": 16,
   "id": "e4ed13d6-7653-4e8f-a885-a96bf2d70fa3",
   "metadata": {
    "tags": []
   },
   "outputs": [],
   "source": [
    "val program6 = \"\"\"\n",
    "x = \"Hello\";\n",
    "y = \"World\";\n",
    "z = 1 + 3;\n",
    "\n",
    "print(z);\n",
    "\"\"\""
   ]
  },
  {
   "cell_type": "code",
   "execution_count": 17,
   "id": "d0a73533-9c79-43a5-81f3-a5f6050c6a17",
   "metadata": {
    "tags": []
   },
   "outputs": [
    {
     "name": "stdout",
     "output_type": "stream",
     "text": [
      "Error: java.lang.Exception: LexerNoViableAltException('[') at line:5, char:4\n"
     ]
    }
   ],
   "source": [
    "execute2(program7)"
   ]
  },
  {
   "cell_type": "code",
   "execution_count": 18,
   "id": "c496a28c-a118-447d-bcd5-5e7ca05ebc5a",
   "metadata": {
    "tags": []
   },
   "outputs": [],
   "source": [
    "val program8 = \"\"\"\n",
    "y = 0;\n",
    "\n",
    "\n",
    "\n",
    "while (y > 10) \n",
    "{\n",
    "y = y + 1;\n",
    "\n",
    "}\n",
    "\n",
    "\n",
    "z = \"true\";\n",
    "print(y);\n",
    "\"\"\""
   ]
  },
  {
   "cell_type": "code",
   "execution_count": 19,
   "id": "55275de6-de84-4f6e-9f24-02963d09bc07",
   "metadata": {
    "tags": []
   },
   "outputs": [
    {
     "name": "stdout",
     "output_type": "stream",
     "text": [
      "Error: java.lang.NullPointerException\n"
     ]
    }
   ],
   "source": [
    "execute2(program8)"
   ]
  },
  {
   "cell_type": "code",
   "execution_count": 20,
   "id": "674ee6ae-ab68-4c46-887c-8a961f9e4c3e",
   "metadata": {
    "tags": []
   },
   "outputs": [],
   "source": [
    "\n",
    "fun run(program: Expr) {\n",
    "    try {\n",
    "        val data = program.eval(Runtime())\n",
    "        println(\"=> ${data}\")\n",
    "    } catch(e: Exception) {\n",
    "        println(\"[err] ${e}\")\n",
    "    }\n",
    "}"
   ]
  },
  {
   "cell_type": "code",
   "execution_count": 21,
   "id": "129a87d6-f7d2-4f62-a815-f769207998f1",
   "metadata": {
    "tags": []
   },
   "outputs": [
    {
     "name": "stdout",
     "output_type": "stream",
     "text": [
      "=> false\n"
     ]
    }
   ],
   "source": [
    "run(\n",
    "    Compare(\n",
    "        Comparator.EQ,\n",
    "        IntLiteral(\"42\"),\n",
    "        IntLiteral(\"1\")\n",
    "    )\n",
    ")\n"
   ]
  },
  {
   "cell_type": "code",
   "execution_count": null,
   "id": "01d5de6e-6ccf-4b3f-b108-e5fab2fc86e5",
   "metadata": {
    "tags": []
   },
   "outputs": [],
   "source": []
  },
  {
   "cell_type": "code",
   "execution_count": 22,
   "id": "6aaf31b4-4822-417b-8a4b-c96e9d19a05f",
   "metadata": {
    "tags": []
   },
   "outputs": [
    {
     "name": "stdout",
     "output_type": "stream",
     "text": [
      "=> Int:39\n"
     ]
    }
   ],
   "source": [
    "run(\n",
    "    Arithmetics(\n",
    "        Operator.Sub,\n",
    "        IntLiteral(\"42\"),\n",
    "        IntLiteral(\"3\")\n",
    "    )\n",
    ")\n"
   ]
  },
  {
   "cell_type": "code",
   "execution_count": 23,
   "id": "ef47266d-4813-493e-81fa-ed9fe8adc2ce",
   "metadata": {
    "tags": []
   },
   "outputs": [
    {
     "name": "stdout",
     "output_type": "stream",
     "text": [
      "=> Int:43\n"
     ]
    }
   ],
   "source": [
    "val program = Block(listOf(\n",
    "    Assign(\"x\", IntLiteral(\"42\")),\n",
    "    Assign(\"y\", IntLiteral(\"1\")),\n",
    "    Arithmetics(Operator.Add, Deref(\"x\"), Deref(\"y\"))\n",
    "))\n",
    "\n",
    "run(program)\n",
    "\n"
   ]
  },
  {
   "cell_type": "code",
   "execution_count": 24,
   "id": "6403a778-5b38-4e7e-b45c-701a5047828c",
   "metadata": {
    "tags": []
   },
   "outputs": [
    {
     "data": {
      "text/plain": [
       "Int:40"
      ]
     },
     "execution_count": 24,
     "metadata": {},
     "output_type": "execute_result"
    }
   ],
   "source": [
    "//If Else\n",
    "\n",
    "Block(listOf(\n",
    "    Assign(\"x\", IntLiteral(\"30\")),\n",
    "    Assign(\"y\", IntLiteral(\"10\")),\n",
    "    IfElse(\n",
    "        Compare(Comparator.LT,\n",
    "               Deref(\"x\"),\n",
    "               Deref(\"y\")),\n",
    "        Arithmetics(Operator.Sub,\n",
    "                Deref(\"x\"),\n",
    "                Deref(\"y\")),\n",
    "        Arithmetics(Operator.Add,\n",
    "                Deref(\"x\"),\n",
    "                Deref(\"y\"))\n",
    "    )\n",
    ")).eval(Runtime())"
   ]
  },
  {
   "cell_type": "code",
   "execution_count": 25,
   "id": "fa659d26-f653-45e8-9b77-91b13e1b7c65",
   "metadata": {
    "tags": []
   },
   "outputs": [],
   "source": [
    "val program9 = \"\"\"\n",
    "\n",
    "function basicAddition(numberX, numberY) {\n",
    "\n",
    "print(numberX + numberY);\n",
    "\n",
    "}\n",
    "\n",
    "x = 5;\n",
    "y = 4;\n",
    "\n",
    "basicAddition(x, y);\n",
    "\n",
    "\"\"\""
   ]
  },
  {
   "cell_type": "code",
   "execution_count": 26,
   "id": "30aaf515-a95f-455f-bc50-a69a6e57f942",
   "metadata": {
    "tags": []
   },
   "outputs": [
    {
     "name": "stdout",
     "output_type": "stream",
     "text": [
      "backend.Block@66489ecb\n",
      "Int:9\n",
      "Int:9\n"
     ]
    }
   ],
   "source": [
    "execute2(program9)"
   ]
  },
  {
   "cell_type": "code",
   "execution_count": 27,
   "id": "68aa2853-31b3-48bd-89b1-aaa2b23ad602",
   "metadata": {
    "tags": []
   },
   "outputs": [
    {
     "name": "stdout",
     "output_type": "stream",
     "text": [
      "=> Int:50\n"
     ]
    }
   ],
   "source": [
    "val program = Block(\n",
    "    listOf(\n",
    "        // x = 10\n",
    "        Assign(\"i\", IntLiteral(\"10\")),\n",
    "        // y = 20\n",
    "        Assign(\"x\", IntLiteral(\"20\")),\n",
    "        // declaration\n",
    "        Declare(\"add3\",\n",
    "               listOf(\"i\", \"j\", \"k\"),\n",
    "               Arithmetics(Operator.Add,\n",
    "                  Deref(\"i\"),\n",
    "                  Arithmetics(Operator.Add, Deref(\"j\"), Deref(\"k\")))),\n",
    "        // invoke the function\n",
    "        Invoke(\"add3\", listOf(\n",
    "            Deref(\"i\"),\n",
    "            Deref(\"x\"),\n",
    "            Deref(\"x\"),\n",
    "        )),\n",
    "    )\n",
    ")\n",
    "\n",
    "run(program)"
   ]
  },
  {
   "cell_type": "code",
   "execution_count": 28,
   "id": "154d3c70-eed3-46f2-9beb-481d5b066060",
   "metadata": {},
   "outputs": [
    {
     "name": "stdout",
     "output_type": "stream",
     "text": [
      "=> Int:6\n"
     ]
    }
   ],
   "source": [
    "val program = Block(\n",
    "    listOf(\n",
    "        Declare(\"sum\", listOf(\"n\"),\n",
    "            Block(\n",
    "                listOf(\n",
    "                    Assign(\"i\", IntLiteral(\"1\")),\n",
    "                    Assign(\"total\", IntLiteral(\"0\")),\n",
    "                    While(\n",
    "                        Compare(\n",
    "                            Comparator.LE,\n",
    "                            Deref(\"i\"),\n",
    "                            Deref(\"n\")\n",
    "                        ),\n",
    "                        Block(\n",
    "                            listOf(\n",
    "                                Assign(\"total\", \n",
    "                                     Arithmetics(Operator.Add,\n",
    "                                                Deref(\"total\"),\n",
    "                                                Deref(\"i\"))),\n",
    "                                Assign(\"i\",\n",
    "                                    Arithmetics(Operator.Add,\n",
    "                                              Deref(\"i\"),\n",
    "                                              IntLiteral(\"1\")))))\n",
    "                    ),\n",
    "                    Deref(\"total\")\n",
    "                )\n",
    "            )),\n",
    "        Invoke(\"sum\", listOf(IntLiteral(\"3\")))\n",
    "    )\n",
    ")\n",
    "\n",
    "run(program)"
   ]
  },
  {
   "cell_type": "code",
   "execution_count": 29,
   "id": "a8f9eea3-21a5-49a3-9862-aa36b7dc149e",
   "metadata": {},
   "outputs": [
    {
     "name": "stdout",
     "output_type": "stream",
     "text": [
      "=> Int:6\n"
     ]
    }
   ],
   "source": [
    "val program = Block(\n",
    "    listOf(\n",
    "        Declare(\"sum_recur\",\n",
    "           listOf(\"n\"),\n",
    "           IfElse(\n",
    "               Compare(\n",
    "                   Comparator.EQ,\n",
    "                   Deref(\"n\"),\n",
    "                   IntLiteral(\"0\")\n",
    "               ),\n",
    "               IntLiteral(\"0\"),\n",
    "               Arithmetics(\n",
    "                   Operator.Add,\n",
    "                   Invoke(\"sum_recur\", listOf(\n",
    "                       Arithmetics(Operator.Sub, Deref(\"n\"), IntLiteral(\"1\"))\n",
    "                   )),\n",
    "                   Deref(\"n\")\n",
    "               )\n",
    "           )),\n",
    "        Invoke(\"sum_recur\", listOf(IntLiteral(\"3\")))\n",
    "    )\n",
    ")\n",
    "\n",
    "run(program)"
   ]
  },
  {
   "cell_type": "code",
   "execution_count": null,
   "id": "bc12f0f3-ece0-4642-825a-2741b791eead",
   "metadata": {},
   "outputs": [],
   "source": []
  },
  {
   "cell_type": "code",
   "execution_count": null,
   "id": "48c25854-82df-4674-acb4-2a96d4ab6165",
   "metadata": {},
   "outputs": [],
   "source": []
  }
 ],
 "metadata": {
  "kernelspec": {
   "display_name": "Kotlin",
   "language": "kotlin",
   "name": "kotlin"
  },
  "language_info": {
   "codemirror_mode": "text/x-kotlin",
   "file_extension": ".kt",
   "mimetype": "text/x-kotlin",
   "name": "kotlin",
   "nbconvert_exporter": "",
   "pygments_lexer": "kotlin",
   "version": "1.8.0-dev-707"
  }
 },
 "nbformat": 4,
 "nbformat_minor": 5
}
