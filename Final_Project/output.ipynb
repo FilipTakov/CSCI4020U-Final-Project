{
 "cells": [
  {
   "cell_type": "markdown",
   "id": "f2dd921e-534b-4e5c-9c36-492f72910813",
   "metadata": {
    "editable": false
   },
   "source": [
    "# Assignment 3"
   ]
  },
  {
   "cell_type": "code",
   "execution_count": 1,
   "id": "5717a6e1-13b5-464b-9244-fdec8411cd5f",
   "metadata": {
    "editable": false,
    "execution": {
     "iopub.execute_input": "2024-04-13T08:03:22.025323Z",
     "iopub.status.busy": "2024-04-13T08:03:22.022671Z",
     "iopub.status.idle": "2024-04-13T08:03:25.102580Z",
     "shell.execute_reply": "2024-04-13T08:03:25.101513Z"
    },
    "tags": []
   },
   "outputs": [],
   "source": [
    "// [THIS IS READ-ONLY]\n",
    "@file:DependsOn(\"/antlr-4.11.1-complete.jar\")\n",
    "@file:DependsOn(\"./target\")"
   ]
  },
  {
   "cell_type": "code",
   "execution_count": 2,
   "id": "3b38dfda-74cd-4464-a6e0-a42096ff8aab",
   "metadata": {
    "editable": false,
    "execution": {
     "iopub.execute_input": "2024-04-13T08:03:25.107995Z",
     "iopub.status.busy": "2024-04-13T08:03:25.106744Z",
     "iopub.status.idle": "2024-04-13T08:03:25.262073Z",
     "shell.execute_reply": "2024-04-13T08:03:25.260958Z"
    },
    "tags": []
   },
   "outputs": [],
   "source": [
    "// [THIS IS READ-ONLY]\n",
    "import org.antlr.v4.runtime.*\n",
    "import backend.*"
   ]
  },
  {
   "cell_type": "code",
   "execution_count": 3,
   "id": "87e5764c-c1cf-43f8-86b8-71f1e6bfae44",
   "metadata": {
    "editable": false,
    "execution": {
     "iopub.execute_input": "2024-04-13T08:03:25.266921Z",
     "iopub.status.busy": "2024-04-13T08:03:25.265583Z",
     "iopub.status.idle": "2024-04-13T08:03:26.103531Z",
     "shell.execute_reply": "2024-04-13T08:03:26.102984Z"
    },
    "tags": []
   },
   "outputs": [],
   "source": [
    "// [THIS IS READ-ONLY]\n",
    "fun execute(source:String) {\n",
    "    val errorlistener = object: BaseErrorListener() {\n",
    "        override fun syntaxError(recognizer: Recognizer<*,*>,\n",
    "               offendingSymbol: Any?,\n",
    "               line: Int,\n",
    "               pos: Int,\n",
    "               msg: String,\n",
    "               e: RecognitionException?) {\n",
    "            throw Exception(\"${e} at line:${line}, char:${pos}\")\n",
    "        }\n",
    "    }\n",
    "    val input = CharStreams.fromString(source)\n",
    "    val lexer = PLLexer(input).apply {\n",
    "        removeErrorListeners()\n",
    "        addErrorListener(errorlistener)\n",
    "    }\n",
    "    val tokens = CommonTokenStream(lexer)\n",
    "    val parser = PLParser(tokens).apply {\n",
    "        removeErrorListeners()\n",
    "        addErrorListener(errorlistener)\n",
    "    }    \n",
    "    \n",
    "    try {\n",
    "        val result = parser.program()\n",
    "        result.expr.eval(Runtime())\n",
    "    } catch(e:Exception) {\n",
    "        println(\"Error: ${e}\")\n",
    "    }\n",
    "}"
   ]
  },
  {
   "cell_type": "markdown",
   "id": "57efa119-3d8e-4837-9b77-19913b2ad480",
   "metadata": {
    "editable": false,
    "tags": []
   },
   "source": [
    "## String arithmetics"
   ]
  },
  {
   "cell_type": "code",
   "execution_count": 4,
   "id": "b001c14e-2f45-48fc-82be-a98168bf2aa9",
   "metadata": {
    "editable": false,
    "execution": {
     "iopub.execute_input": "2024-04-13T08:03:26.107780Z",
     "iopub.status.busy": "2024-04-13T08:03:26.106759Z",
     "iopub.status.idle": "2024-04-13T08:03:26.256724Z",
     "shell.execute_reply": "2024-04-13T08:03:26.220884Z"
    },
    "tags": []
   },
   "outputs": [],
   "source": [
    "// [THIS IS READ-ONLY]\n",
    "val program1 = \"\"\"\n",
    "x = \"Hello\";\n",
    "y = \"World\";\n",
    "\n",
    "print(x ++ \" \" ++ y);\n",
    "\"\"\""
   ]
  },
  {
   "cell_type": "code",
   "execution_count": 5,
   "id": "b3c2857e",
   "metadata": {
    "execution": {
     "iopub.execute_input": "2024-04-13T08:03:26.261113Z",
     "iopub.status.busy": "2024-04-13T08:03:26.260248Z",
     "iopub.status.idle": "2024-04-13T08:03:26.660683Z",
     "shell.execute_reply": "2024-04-13T08:03:26.660067Z"
    },
    "tags": []
   },
   "outputs": [
    {
     "name": "stdout",
     "output_type": "stream",
     "text": [
      "String:\"\"Hello\"\" \"\"World\"\"\n",
      "String:\"\"Hello\"\" \"\"World\"\"\n"
     ]
    }
   ],
   "source": [
    "// [YOUR WORK HERE]\n",
    "// @workUnit\n",
    "// execute the program\n",
    "fun execute2(source:String) {\n",
    "    val errorlistener = object: BaseErrorListener() {\n",
    "        override fun syntaxError(recognizer: Recognizer<*,*>,\n",
    "               offendingSymbol: Any?,\n",
    "               line: Int,\n",
    "               pos: Int,\n",
    "               msg: String,\n",
    "               e: RecognitionException?) {\n",
    "            throw Exception(\"${e} at line:${line}, char:${pos}\")\n",
    "        }\n",
    "    }\n",
    "    val input = CharStreams.fromString(source)\n",
    "    val lexer = PLLexer(input).apply {\n",
    "        removeErrorListeners()\n",
    "        addErrorListener(errorlistener)\n",
    "    }\n",
    "    val tokens = CommonTokenStream(lexer)\n",
    "    val parser = PLParser(tokens).apply {\n",
    "        removeErrorListeners()\n",
    "        addErrorListener(errorlistener)\n",
    "    }    \n",
    "    \n",
    "    try {\n",
    "        val result = parser.program()\n",
    "        //println(result.expr)\n",
    "        println(result.expr.eval(Runtime()))\n",
    "    } catch(e:Exception) {\n",
    "        println(\"Error: ${e}\")\n",
    "    }\n",
    "}\n",
    "execute2(program1)"
   ]
  },
  {
   "cell_type": "markdown",
   "id": "b4ad5b2d-b4b2-42e8-bbe1-0ecefb10102d",
   "metadata": {
    "editable": false
   },
   "source": [
    "## Mixed arithmetics"
   ]
  },
  {
   "cell_type": "code",
   "execution_count": 6,
   "id": "579a59aa-6074-4715-a248-bd553e9bddbf",
   "metadata": {
    "editable": false,
    "execution": {
     "iopub.execute_input": "2024-04-13T08:03:26.663923Z",
     "iopub.status.busy": "2024-04-13T08:03:26.663204Z",
     "iopub.status.idle": "2024-04-13T08:03:26.716598Z",
     "shell.execute_reply": "2024-04-13T08:03:26.715948Z"
    },
    "tags": []
   },
   "outputs": [],
   "source": [
    "// [THIS IS READ-ONLY]\n",
    "val program2 = \"\"\"\n",
    "x = \"woof \";\n",
    "y = \"Dog goes \" ++ (x * 2);\n",
    "\n",
    "print(y);\n",
    "\"\"\""
   ]
  },
  {
   "cell_type": "code",
   "execution_count": 7,
   "id": "629a437d",
   "metadata": {
    "execution": {
     "iopub.execute_input": "2024-04-13T08:03:26.719647Z",
     "iopub.status.busy": "2024-04-13T08:03:26.718918Z",
     "iopub.status.idle": "2024-04-13T08:03:26.862132Z",
     "shell.execute_reply": "2024-04-13T08:03:26.861603Z"
    },
    "tags": []
   },
   "outputs": [
    {
     "name": "stdout",
     "output_type": "stream",
     "text": [
      "String:\"\"Dog goes \"\"woof \"\"woof \"\"\n"
     ]
    }
   ],
   "source": [
    "// [YOUR WORK HERE]\n",
    "// @workUnit\n",
    "\n",
    "execute(program2)"
   ]
  },
  {
   "cell_type": "markdown",
   "id": "172ba344-0ce6-49c2-a5ac-d14eefdaffb4",
   "metadata": {
    "editable": false,
    "tags": []
   },
   "source": [
    "## Loops"
   ]
  },
  {
   "cell_type": "code",
   "execution_count": 8,
   "id": "eab62b5c-103d-4b9e-9244-61faa2571bd7",
   "metadata": {
    "editable": false,
    "execution": {
     "iopub.execute_input": "2024-04-13T08:03:26.865155Z",
     "iopub.status.busy": "2024-04-13T08:03:26.864493Z",
     "iopub.status.idle": "2024-04-13T08:03:26.915497Z",
     "shell.execute_reply": "2024-04-13T08:03:26.915055Z"
    },
    "tags": []
   },
   "outputs": [],
   "source": [
    "// [THIS IS READ-ONLY]\n",
    "val program3 = \"\"\"\n",
    "sum = 0\n",
    "for(i in 10..20) {\n",
    "  sum = sum + i;\n",
    "}\n",
    "\n",
    "print(sum)\n",
    "\"\"\""
   ]
  },
  {
   "cell_type": "code",
   "execution_count": 9,
   "id": "9f1ac87b",
   "metadata": {
    "execution": {
     "iopub.execute_input": "2024-04-13T08:03:26.918356Z",
     "iopub.status.busy": "2024-04-13T08:03:26.917696Z",
     "iopub.status.idle": "2024-04-13T08:03:27.056818Z",
     "shell.execute_reply": "2024-04-13T08:03:27.056461Z"
    },
    "tags": []
   },
   "outputs": [
    {
     "name": "stdout",
     "output_type": "stream",
     "text": [
      "Error: java.lang.Exception: null at line:3, char:0\n"
     ]
    }
   ],
   "source": [
    "// [YOUR WORK HERE]\n",
    "// @workUnit\n",
    "\n",
    "execute(program3)"
   ]
  },
  {
   "cell_type": "markdown",
   "id": "46585be1-3814-4ad5-83e8-6ff46f99b90f",
   "metadata": {
    "editable": false,
    "tags": []
   },
   "source": [
    "## Function"
   ]
  },
  {
   "cell_type": "code",
   "execution_count": 10,
   "id": "91e9c33b-9393-4de7-8e98-aa82d568df53",
   "metadata": {
    "editable": false,
    "execution": {
     "iopub.execute_input": "2024-04-13T08:03:27.059764Z",
     "iopub.status.busy": "2024-04-13T08:03:27.059128Z",
     "iopub.status.idle": "2024-04-13T08:03:27.107451Z",
     "shell.execute_reply": "2024-04-13T08:03:27.106844Z"
    },
    "tags": []
   },
   "outputs": [],
   "source": [
    "// [THIS IS READ-ONLY]\n",
    "val program4 = \"\"\"\n",
    "function greeting(name, message) {\n",
    "  x = \"Hi,\";\n",
    "  x = x ++ \" my name is \" ++ name ++ \".\";\n",
    "  print(x);\n",
    "  print(message);\n",
    "}\n",
    "\n",
    "greeting(\"Albert\", \"How are you?\");\n",
    "\"\"\""
   ]
  },
  {
   "cell_type": "code",
   "execution_count": 11,
   "id": "475f7864",
   "metadata": {
    "execution": {
     "iopub.execute_input": "2024-04-13T08:03:27.110183Z",
     "iopub.status.busy": "2024-04-13T08:03:27.109601Z",
     "iopub.status.idle": "2024-04-13T08:03:27.206438Z",
     "shell.execute_reply": "2024-04-13T08:03:27.205759Z"
    },
    "tags": []
   },
   "outputs": [
    {
     "name": "stdout",
     "output_type": "stream",
     "text": [
      "String:\"\"How are you?\"\"\n"
     ]
    }
   ],
   "source": [
    "// [YOUR WORK HERE]\n",
    "// @workUnit\n",
    "\n",
    "execute(program4)"
   ]
  },
  {
   "cell_type": "markdown",
   "id": "aeb42862-8d8a-4a40-ae06-a5641eb8d2bf",
   "metadata": {
    "editable": false,
    "tags": []
   },
   "source": [
    "## Recursion"
   ]
  },
  {
   "cell_type": "code",
   "execution_count": 12,
   "id": "c39324da-96e3-4e61-a489-f23a7fc3f508",
   "metadata": {
    "editable": false,
    "execution": {
     "iopub.execute_input": "2024-04-13T08:03:27.209176Z",
     "iopub.status.busy": "2024-04-13T08:03:27.208575Z",
     "iopub.status.idle": "2024-04-13T08:03:27.291318Z",
     "shell.execute_reply": "2024-04-13T08:03:27.290877Z"
    },
    "tags": []
   },
   "outputs": [],
   "source": [
    "// [THIS IS READ-ONLY]\n",
    "val program5 = \"\"\"\n",
    "function factorial(n) {\n",
    "  if(n < 2) {\n",
    "    1;\n",
    "  } else {\n",
    "    n * factorial(n-1);\n",
    "  }\n",
    "}\n",
    "\n",
    "print(factorial(10));\n",
    "\"\"\""
   ]
  },
  {
   "cell_type": "code",
   "execution_count": 13,
   "id": "755cf3df",
   "metadata": {
    "execution": {
     "iopub.execute_input": "2024-04-13T08:03:27.293913Z",
     "iopub.status.busy": "2024-04-13T08:03:27.293328Z",
     "iopub.status.idle": "2024-04-13T08:03:27.398117Z",
     "shell.execute_reply": "2024-04-13T08:03:27.397302Z"
    },
    "tags": []
   },
   "outputs": [
    {
     "name": "stdout",
     "output_type": "stream",
     "text": [
      "Error: java.lang.Exception: LexerNoViableAltException('<') at line:3, char:7\n"
     ]
    }
   ],
   "source": [
    "// [YOUR WORK HERE]\n",
    "// @workUnit\n",
    "\n",
    "execute(program5)"
   ]
  },
  {
   "cell_type": "code",
   "execution_count": 14,
   "id": "5511dc4b-a869-4214-8fe2-5fd342f1a60b",
   "metadata": {
    "execution": {
     "iopub.execute_input": "2024-04-13T08:03:27.401680Z",
     "iopub.status.busy": "2024-04-13T08:03:27.400126Z",
     "iopub.status.idle": "2024-04-13T08:03:27.579415Z",
     "shell.execute_reply": "2024-04-13T08:03:27.579018Z"
    },
    "tags": []
   },
   "outputs": [
    {
     "data": {
      "text/plain": [
       "a = Int:42; b = String:\"Hello\""
      ]
     },
     "execution_count": 14,
     "metadata": {},
     "output_type": "execute_result"
    }
   ],
   "source": [
    "// personal testing cell:\n",
    "\n",
    "\n",
    "Runtime()\n",
    "    .subscope(\n",
    "        mapOf(\n",
    "            \"a\" to IntData(42),\n",
    "            \"b\" to StringData(\"Hello\")\n",
    "        )\n",
    "    )"
   ]
  },
  {
   "cell_type": "code",
   "execution_count": 15,
   "id": "45cd9bcf-0e36-46f9-b2f2-6c015e383ac8",
   "metadata": {
    "execution": {
     "iopub.execute_input": "2024-04-13T08:03:27.582215Z",
     "iopub.status.busy": "2024-04-13T08:03:27.581414Z",
     "iopub.status.idle": "2024-04-13T08:03:27.630387Z",
     "shell.execute_reply": "2024-04-13T08:03:27.629811Z"
    },
    "tags": []
   },
   "outputs": [],
   "source": [
    "val program7 = \"\"\"\n",
    "x = \"Hello\";\n",
    "y = \" World\";\n",
    "\n",
    "print(x ++ y);\n",
    "\"\"\""
   ]
  },
  {
   "cell_type": "code",
   "execution_count": 16,
   "id": "e4ed13d6-7653-4e8f-a885-a96bf2d70fa3",
   "metadata": {
    "execution": {
     "iopub.execute_input": "2024-04-13T08:03:27.658117Z",
     "iopub.status.busy": "2024-04-13T08:03:27.657657Z",
     "iopub.status.idle": "2024-04-13T08:03:27.704450Z",
     "shell.execute_reply": "2024-04-13T08:03:27.703937Z"
    },
    "tags": []
   },
   "outputs": [],
   "source": [
    "val program6 = \"\"\"\n",
    "x = \"Hello\";\n",
    "y = \"World\";\n",
    "z = true;\n",
    "\n",
    "print(z);\n",
    "\"\"\""
   ]
  },
  {
   "cell_type": "code",
   "execution_count": 17,
   "id": "d0a73533-9c79-43a5-81f3-a5f6050c6a17",
   "metadata": {
    "execution": {
     "iopub.execute_input": "2024-04-13T08:03:27.706729Z",
     "iopub.status.busy": "2024-04-13T08:03:27.706292Z",
     "iopub.status.idle": "2024-04-13T08:03:27.786372Z",
     "shell.execute_reply": "2024-04-13T08:03:27.785982Z"
    },
    "tags": []
   },
   "outputs": [
    {
     "name": "stdout",
     "output_type": "stream",
     "text": [
      "Error: java.lang.Exception: true is not assigned.\n"
     ]
    }
   ],
   "source": [
    "execute2(program6)"
   ]
  },
  {
   "cell_type": "code",
   "execution_count": null,
   "id": "dbfcf553-ef32-4f7e-94ed-a253edff1f05",
   "metadata": {},
   "outputs": [],
   "source": []
  }
 ],
 "metadata": {
  "kernelspec": {
   "display_name": "Kotlin",
   "language": "kotlin",
   "name": "kotlin"
  },
  "language_info": {
   "codemirror_mode": "text/x-kotlin",
   "file_extension": ".kt",
   "mimetype": "text/x-kotlin",
   "name": "kotlin",
   "nbconvert_exporter": "",
   "pygments_lexer": "kotlin",
   "version": "1.8.0-dev-707"
  }
 },
 "nbformat": 4,
 "nbformat_minor": 5
}
